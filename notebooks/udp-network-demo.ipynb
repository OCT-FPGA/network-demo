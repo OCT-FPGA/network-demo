{
 "cells": [
  {
   "cell_type": "markdown",
   "id": "30aafa73-9600-42f3-a142-cff74fa7009b",
   "metadata": {},
   "source": [
    "# UDP Encryption and Decryption with Two Alveo U280s in OCT "
   ]
  },
  {
   "cell_type": "markdown",
   "id": "30d537da-def1-490e-a4ad-392cdc35d1c6",
   "metadata": {},
   "source": [
    "In this notebook, we are demonstrating a simple example of how two Alveo U280s in OCT can talk to each other. We make use of Xilinx CMAC and UDP network layer IPs as the networking infrastructure and add sender/receiver user logic on top of that. We have also added the option for encryption and decryption if needed. The sender FPGA reads a text file from the host memory, encrypts if required before sending through the network. On the other end, the receiver FPGA receives the packet decrypts if required and delivers it to the host. \n",
    "\n",
    "Note: It is assumed that you have already generated the bitstream that is required to run this application."
   ]
  },
  {
   "cell_type": "code",
   "execution_count": null,
   "id": "7d921d9f-8f92-4f1a-9421-02e7e09de319",
   "metadata": {},
   "outputs": [],
   "source": [
    "import time"
   ]
  },
  {
   "cell_type": "markdown",
   "id": "921e296f-fc6f-4db6-9ccf-5b7c5f68776c",
   "metadata": {},
   "source": [
    "## Sender/Receiver Parameters"
   ]
  },
  {
   "cell_type": "code",
   "execution_count": null,
   "id": "82815e5b-6206-4026-925b-4faa8ae7804e",
   "metadata": {},
   "outputs": [],
   "source": [
    "remote_host_sender = '<node>.cloudlab.umass.edu' #eg: pc155.cloudlab.umass.edu\n",
    "remote_host_receiver = '<node>.cloudlab.umass.edu'\n",
    "remote_host_username = '<username>'\n",
    "private_key = '<private key>'\n",
    "dest_dir = '/users/' + remote_host_username + '/udp-demo'"
   ]
  },
  {
   "cell_type": "code",
   "execution_count": null,
   "id": "0cdb547f-a7a6-4760-9a5e-475ee93190f4",
   "metadata": {},
   "outputs": [],
   "source": [
    "bitstream = 'udp_demo_if0.xclbin'\n",
    "num_packets = 1\n",
    "encrypt = True # (False if encryption is not required)\n",
    "decrypt = True # (False if decryption is not required)\n",
    "sender_ip = '<sender IP>'\n",
    "receiver_ip = '<receiver IP>'\n",
    "ip_gateway = '<IP gateway>'"
   ]
  },
  {
   "cell_type": "markdown",
   "id": "d3d8da6c-1f45-4afa-bbe1-b12ca94429d3",
   "metadata": {},
   "source": [
    "## Verify the SSH Connection"
   ]
  },
  {
   "cell_type": "code",
   "execution_count": null,
   "id": "3f7a3051-5c33-464b-8b7a-57c4eed12853",
   "metadata": {},
   "outputs": [],
   "source": [
    "!ssh -o StrictHostKeyChecking=no -i {private_key} {remote_host_username}@{remote_host_sender} \"echo \\\"Successfully connected to {remote_host_sender}\\\" && mkdir -p {dest_dir}\""
   ]
  },
  {
   "cell_type": "code",
   "execution_count": null,
   "id": "edf0f73d-d55f-4c05-af18-eb880e44fe27",
   "metadata": {},
   "outputs": [],
   "source": [
    "!ssh -o StrictHostKeyChecking=no -i {private_key} {remote_host_username}@{remote_host_receiver} \"echo \\\"Successfully connected to {remote_host_receiver}\\\" && mkdir -p {dest_dir}\""
   ]
  },
  {
   "cell_type": "markdown",
   "id": "97ef9e9e-467b-41b2-95aa-594383f16bc8",
   "metadata": {},
   "source": [
    "## Copy Files"
   ]
  },
  {
   "cell_type": "code",
   "execution_count": null,
   "id": "275e2913-a33b-4a69-896d-11d9b819b3df",
   "metadata": {},
   "outputs": [],
   "source": [
    "!scp -i {private_key} ../build_hw_if0/udp_demo_if0.xclbin sender.py validate.py vnx_utils.py ../host/alice29.txt {remote_host_username}@{remote_host_sender}:{dest_dir}"
   ]
  },
  {
   "cell_type": "code",
   "execution_count": null,
   "id": "1294ee2a-01fc-4c20-9a42-f7fa58fe3f9b",
   "metadata": {},
   "outputs": [],
   "source": [
    "!scp -i {private_key} ../build_hw_if0/udp_demo_if0.xclbin receiver.py validate.py vnx_utils.py {remote_host_username}@{remote_host_receiver}:{dest_dir}"
   ]
  },
  {
   "cell_type": "markdown",
   "id": "3d120af1-ae7d-477b-a900-9ea1ab6d3a1f",
   "metadata": {},
   "source": [
    "## Sender/Receiver Commands"
   ]
  },
  {
   "cell_type": "code",
   "execution_count": null,
   "id": "902f2b49-2672-47e8-a604-39126beb9556",
   "metadata": {},
   "outputs": [],
   "source": [
    "dest_dir_cmd = f\"cd {dest_dir};\"\n",
    "# Rx command\n",
    "xrt_cmd = 'source /opt/xilinx/xrt/setup.sh;'\n",
    "rx_params = f\"{bitstream} --num_packets {num_packets} --decrypt {decrypt} --my_ip {receiver_ip} --their_ip {sender_ip} --ip_gw {ip_gateway}\"\n",
    "rx_run_cmd = f\"python3.8 receiver.py {rx_params}\"\n",
    "rx_buf_del = 'rm -f rx_buf.txt;'\n",
    "rx_cmd = 'nohup /bin/bash -c ' + f\"'{dest_dir_cmd} {rx_buf_del} {xrt_cmd} {rx_run_cmd}'\" + f\" > {dest_dir}/rx_out.log 2>&1 &\"\n",
    "# Tx command\n",
    "tx_params = f\"{bitstream} --num_packets {num_packets} --encrypt {encrypt} --my_ip {sender_ip} --their_ip {receiver_ip} --ip_gw {ip_gateway}\"\n",
    "tx_run_cmd = f\"python3.8 sender.py {tx_params}\"\n",
    "tx_cmd = 'nohup /bin/bash -c ' + f\"'{dest_dir_cmd} {xrt_cmd} {tx_run_cmd}'\" + f\" > {dest_dir}/tx_out.log 2>&1 &\""
   ]
  },
  {
   "cell_type": "markdown",
   "id": "23eee4cb-7cf8-4067-a1f7-bd4e94014e5c",
   "metadata": {},
   "source": [
    "### Receiver"
   ]
  },
  {
   "cell_type": "code",
   "execution_count": null,
   "id": "2e6c3976-c7c3-45da-9b36-1fa49839449f",
   "metadata": {},
   "outputs": [],
   "source": [
    "!ssh -i {private_key} {remote_host_username}@{remote_host_receiver} \"{rx_cmd}\""
   ]
  },
  {
   "cell_type": "code",
   "execution_count": null,
   "id": "d01585f2-28b8-4fc6-99ea-f4b018142bac",
   "metadata": {},
   "outputs": [],
   "source": [
    "time.sleep(5)"
   ]
  },
  {
   "cell_type": "markdown",
   "id": "00ac451c-e9be-4410-b09b-5fa40a21e706",
   "metadata": {},
   "source": [
    "### Sender"
   ]
  },
  {
   "cell_type": "code",
   "execution_count": null,
   "id": "d010c1eb-1d51-4cf9-82dc-22bb2e8bae39",
   "metadata": {},
   "outputs": [],
   "source": [
    "!ssh -i {private_key} {remote_host_username}@{remote_host_sender} \"{tx_cmd}\""
   ]
  },
  {
   "cell_type": "code",
   "execution_count": null,
   "id": "99016d97-0b4a-4a04-bb40-a36abbfea355",
   "metadata": {},
   "outputs": [],
   "source": [
    "time.sleep(5)"
   ]
  },
  {
   "cell_type": "markdown",
   "id": "8e9e3089-8c24-4ba0-aec5-68b4191ea483",
   "metadata": {},
   "source": [
    "## Retrieve the Text File"
   ]
  },
  {
   "cell_type": "code",
   "execution_count": null,
   "id": "4aaad9d4-ee82-46fd-9503-1169f0ebb74e",
   "metadata": {},
   "outputs": [],
   "source": [
    "!rm -f ./rx_buf.txt\n",
    "!scp -i {private_key} {remote_host_username}@{remote_host_receiver}:{dest_dir}/rx_buf.txt ."
   ]
  },
  {
   "cell_type": "code",
   "execution_count": null,
   "id": "d218e123-ec57-47ed-9fb7-49ce90866230",
   "metadata": {},
   "outputs": [],
   "source": [
    "file_path = './rx_buf.txt'\n",
    "with open(file_path, 'r') as file:\n",
    "    content = file.read()\n",
    "print(content)"
   ]
  },
  {
   "cell_type": "code",
   "execution_count": null,
   "id": "ea987040-0fea-40d9-ab87-5b9a912a30c1",
   "metadata": {},
   "outputs": [],
   "source": []
  }
 ],
 "metadata": {
  "kernelspec": {
   "display_name": "Python 3 (ipykernel)",
   "language": "python",
   "name": "python3"
  },
  "language_info": {
   "codemirror_mode": {
    "name": "ipython",
    "version": 3
   },
   "file_extension": ".py",
   "mimetype": "text/x-python",
   "name": "python",
   "nbconvert_exporter": "python",
   "pygments_lexer": "ipython3",
   "version": "3.8.10"
  }
 },
 "nbformat": 4,
 "nbformat_minor": 5
}

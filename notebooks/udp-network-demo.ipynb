{
 "cells": [
  {
   "cell_type": "markdown",
   "id": "30aafa73-9600-42f3-a142-cff74fa7009b",
   "metadata": {},
   "source": [
    "# UDP Encryption and Decryption with Two Alveo U280s in OCT "
   ]
  },
  {
   "cell_type": "raw",
   "id": "25ca4809-2a59-4fa1-bbd3-219a5d5b3081",
   "metadata": {},
   "source": [
    "In this notebook, we are demonstrating a simple example of how two Alveo U280s in OCT can talk to each other. We make use of Xilinx CMAC and UDP network layer IPs as the networking infrastructure and add sender/receiver user logic on top of that. We have also added the option for encryption and decryption if needed. The sender FPGA reads a text file from the host memory, encrypts if required before sending through the network. On the other end, the receiver FPGA receives the packet decrypts if required and delivers it to the host. \n",
    "\n",
    "Note: It is assumed that you have already generated the bitstream that is required to run this application."
   ]
  },
  {
   "cell_type": "code",
   "execution_count": 1,
   "id": "7d921d9f-8f92-4f1a-9421-02e7e09de319",
   "metadata": {},
   "outputs": [],
   "source": [
    "import time"
   ]
  },
  {
   "cell_type": "markdown",
   "id": "921e296f-fc6f-4db6-9ccf-5b7c5f68776c",
   "metadata": {},
   "source": [
    "## Sender/Receiver Parameters"
   ]
  },
  {
   "cell_type": "code",
   "execution_count": 2,
   "id": "82815e5b-6206-4026-925b-4faa8ae7804e",
   "metadata": {},
   "outputs": [],
   "source": [
    "remote_host_sender = '<node ID>.cloudlab.umass.edu' #eg: pc155.cloudlab.umass.edu\n",
    "remote_host_receiver = '<node ID>.cloudlab.umass.edu'\n",
    "remote_host_username = '<CloudLab username>'\n",
    "private_key = '<private key>'\n",
    "dest_dir = '/users/' + remote_host_username + '/udp-demo'"
   ]
  },
  {
   "cell_type": "code",
   "execution_count": 3,
   "id": "0cdb547f-a7a6-4760-9a5e-475ee93190f4",
   "metadata": {},
   "outputs": [],
   "source": [
    "bitstream = 'udp_demo_if0.xclbin'\n",
    "num_packets = 1\n",
    "encrypt = True # (False if encryption is not required)\n",
    "decrypt = True # (False if decryption is not required)\n",
    "sender_ip = '192.168.40.100'\n",
    "receiver_ip = '192.168.40.200'\n",
    "ip_gateway = '192.168.40.254'"
   ]
  },
  {
   "cell_type": "markdown",
   "id": "d3d8da6c-1f45-4afa-bbe1-b12ca94429d3",
   "metadata": {},
   "source": [
    "## Check the SSH Connection to the FPGA Nodes in OCT"
   ]
  },
  {
   "cell_type": "code",
   "execution_count": 4,
   "id": "3f7a3051-5c33-464b-8b7a-57c4eed12853",
   "metadata": {},
   "outputs": [
    {
     "name": "stdout",
     "output_type": "stream",
     "text": [
      "Successfully connected to pc151.cloudlab.umass.edu\n"
     ]
    }
   ],
   "source": [
    "!ssh -o StrictHostKeyChecking=no -i {private_key} {remote_host_username}@{remote_host_sender} \"echo \\\"Successfully connected to {remote_host_sender}\\\" && mkdir -p {dest_dir}\""
   ]
  },
  {
   "cell_type": "code",
   "execution_count": 5,
   "id": "edf0f73d-d55f-4c05-af18-eb880e44fe27",
   "metadata": {},
   "outputs": [
    {
     "name": "stdout",
     "output_type": "stream",
     "text": [
      "Successfully connected to pc154.cloudlab.umass.edu\n"
     ]
    }
   ],
   "source": [
    "!ssh -o StrictHostKeyChecking=no -i {private_key} {remote_host_username}@{remote_host_receiver} \"echo \\\"Successfully connected to {remote_host_receiver}\\\" && mkdir -p {dest_dir}\""
   ]
  },
  {
   "cell_type": "markdown",
   "id": "97ef9e9e-467b-41b2-95aa-594383f16bc8",
   "metadata": {},
   "source": [
    "## Copy Files"
   ]
  },
  {
   "cell_type": "code",
   "execution_count": 6,
   "id": "275e2913-a33b-4a69-896d-11d9b819b3df",
   "metadata": {},
   "outputs": [
    {
     "name": "stdout",
     "output_type": "stream",
     "text": [
      "udp_demo_if0.xclbin                           100%   53MB 105.3MB/s   00:00    \n",
      "sender.py                                     100% 2241   497.4KB/s   00:00    \n",
      "validate.py                                   100%  413    93.1KB/s   00:00    \n",
      "vnx_utils.py                                  100%   32KB   6.3MB/s   00:00    \n",
      "alice29.txt                                   100%  149KB   3.4MB/s   00:00    \n"
     ]
    }
   ],
   "source": [
    "!scp -i {private_key} ../build_hw_if0/udp_demo_if0.xclbin sender.py validate.py vnx_utils.py ../host/alice29.txt {remote_host_username}@{remote_host_sender}:{dest_dir}"
   ]
  },
  {
   "cell_type": "code",
   "execution_count": 7,
   "id": "1294ee2a-01fc-4c20-9a42-f7fa58fe3f9b",
   "metadata": {},
   "outputs": [
    {
     "name": "stdout",
     "output_type": "stream",
     "text": [
      "udp_demo_if0.xclbin                           100%   53MB  99.3MB/s   00:00    \n",
      "receiver.py                                   100% 2063   248.1KB/s   00:00    \n",
      "validate.py                                   100%  413    90.4KB/s   00:00    \n",
      "vnx_utils.py                                  100%   32KB   6.1MB/s   00:00    \n"
     ]
    }
   ],
   "source": [
    "!scp -i {private_key} ../build_hw_if0/udp_demo_if0.xclbin receiver.py validate.py vnx_utils.py {remote_host_username}@{remote_host_receiver}:{dest_dir}"
   ]
  },
  {
   "cell_type": "markdown",
   "id": "3d120af1-ae7d-477b-a900-9ea1ab6d3a1f",
   "metadata": {},
   "source": [
    "## Sender/Receiver Commands"
   ]
  },
  {
   "cell_type": "code",
   "execution_count": 8,
   "id": "902f2b49-2672-47e8-a604-39126beb9556",
   "metadata": {},
   "outputs": [],
   "source": [
    "dest_dir_cmd = f\"cd {dest_dir};\"\n",
    "# Rx command\n",
    "xrt_cmd = 'source /opt/xilinx/xrt/setup.sh;'\n",
    "rx_params = f\"{bitstream} --num_packets {num_packets} --decrypt {decrypt} --my_ip {receiver_ip} --their_ip {sender_ip} --ip_gw {ip_gateway}\"\n",
    "rx_run_cmd = f\"python3.8 receiver.py {rx_params}\"\n",
    "rx_buf_del = 'rm -f rx_buf.txt;'\n",
    "rx_cmd = 'nohup /bin/bash -c ' + f\"'{dest_dir_cmd} {rx_buf_del} {xrt_cmd} {rx_run_cmd}'\" + f\" > {dest_dir}/rx_out.log 2>&1 &\"\n",
    "# Tx command\n",
    "tx_params = f\"{bitstream} --num_packets {num_packets} --encrypt {encrypt} --my_ip {sender_ip} --their_ip {receiver_ip} --ip_gw {ip_gateway}\"\n",
    "tx_run_cmd = f\"python3.8 sender.py {tx_params}\"\n",
    "tx_cmd = 'nohup /bin/bash -c ' + f\"'{dest_dir_cmd} {xrt_cmd} {tx_run_cmd}'\" + f\" > {dest_dir}/tx_out.log 2>&1 &\""
   ]
  },
  {
   "cell_type": "markdown",
   "id": "23eee4cb-7cf8-4067-a1f7-bd4e94014e5c",
   "metadata": {},
   "source": [
    "### Receiver"
   ]
  },
  {
   "cell_type": "code",
   "execution_count": 9,
   "id": "2e6c3976-c7c3-45da-9b36-1fa49839449f",
   "metadata": {},
   "outputs": [],
   "source": [
    "!ssh -i {private_key} {remote_host_username}@{remote_host_receiver} \"{rx_cmd}\""
   ]
  },
  {
   "cell_type": "markdown",
   "id": "00ac451c-e9be-4410-b09b-5fa40a21e706",
   "metadata": {},
   "source": [
    "### Sender"
   ]
  },
  {
   "cell_type": "code",
   "execution_count": 10,
   "id": "d010c1eb-1d51-4cf9-82dc-22bb2e8bae39",
   "metadata": {},
   "outputs": [],
   "source": [
    "!ssh -i {private_key} {remote_host_username}@{remote_host_sender} \"{tx_cmd}\""
   ]
  },
  {
   "cell_type": "code",
   "execution_count": 11,
   "id": "99016d97-0b4a-4a04-bb40-a36abbfea355",
   "metadata": {},
   "outputs": [],
   "source": [
    "time.sleep(5)"
   ]
  },
  {
   "cell_type": "markdown",
   "id": "8e9e3089-8c24-4ba0-aec5-68b4191ea483",
   "metadata": {},
   "source": [
    "## Retrieve the Textfile and Display"
   ]
  },
  {
   "cell_type": "code",
   "execution_count": 12,
   "id": "4aaad9d4-ee82-46fd-9503-1169f0ebb74e",
   "metadata": {},
   "outputs": [
    {
     "name": "stdout",
     "output_type": "stream",
     "text": [
      "rx_buf.txt                                    100% 1408   321.1KB/s   00:00    \n"
     ]
    }
   ],
   "source": [
    "!rm -f ./rx_buf.txt\n",
    "!scp -i {private_key} {remote_host_username}@{remote_host_receiver}:{dest_dir}/rx_buf.txt ."
   ]
  },
  {
   "cell_type": "code",
   "execution_count": 13,
   "id": "d218e123-ec57-47ed-9fb7-49ce90866230",
   "metadata": {},
   "outputs": [
    {
     "name": "stdout",
     "output_type": "stream",
     "text": [
      "\n",
      "\n",
      "\n",
      "\n",
      "                ALICE'S ADVENTURES IN WONDERLAND\n",
      "\n",
      "                          Lewis Carroll\n",
      "\n",
      "               THE MILLENNIUM FULCRUM EDITION 2.9\n",
      "\n",
      "\n",
      "\n",
      "\n",
      "                            CHAPTER I\n",
      "\n",
      "                      Down the Rabbit-Hole\n",
      "\n",
      "\n",
      "  Alice was beginning to get very tired of sitting by her sister\n",
      "on the bank, and of having nothing to do:  once or twice she had\n",
      "peeped into the book her sister was reading, but it had no\n",
      "pictures or conversations in it, `and what is the use of a book,'\n",
      "thought Alice `without pictures or conversation?'\n",
      "\n",
      "  So she was considering in her own mind (as well as she could,\n",
      "for the hot day made her feel very sleepy and stupid), whether\n",
      "the pleasure of making a daisy-chain would be worth the trouble\n",
      "of getting up and picking the daisies, when suddenly a White\n",
      "Rabbit with pink eyes ran close by her.\n",
      "\n",
      "  There was nothing so VERY remarkable in that; nor did Alice\n",
      "think it so VERY much out of the way to hear the Rabbit say to\n",
      "itself, `Oh dear!  Oh dear!  I shall be late!'  (when she thought\n",
      "it over afterwards, it occurred to her that she ought to have\n",
      "wondered at this, but at the time it all seemed quite natural);\n",
      "but when the Rabbit actually TOOK A WATCH OUT OF ITS WAISTCOAT-\n",
      "POCKET, and looked at it, and then hurried on, Alice started to\n",
      "her feet, for it flashed across her mind that she had never\n",
      "before seen a rabbit with either \n"
     ]
    }
   ],
   "source": [
    "file_path = './rx_buf.txt'\n",
    "with open(file_path, 'r') as file:\n",
    "    content = file.read()\n",
    "print(content)"
   ]
  },
  {
   "cell_type": "code",
   "execution_count": null,
   "id": "ea987040-0fea-40d9-ab87-5b9a912a30c1",
   "metadata": {},
   "outputs": [],
   "source": []
  }
 ],
 "metadata": {
  "kernelspec": {
   "display_name": "Python 3 (ipykernel)",
   "language": "python",
   "name": "python3"
  },
  "language_info": {
   "codemirror_mode": {
    "name": "ipython",
    "version": 3
   },
   "file_extension": ".py",
   "mimetype": "text/x-python",
   "name": "python",
   "nbconvert_exporter": "python",
   "pygments_lexer": "ipython3",
   "version": "3.8.10"
  }
 },
 "nbformat": 4,
 "nbformat_minor": 5
}
